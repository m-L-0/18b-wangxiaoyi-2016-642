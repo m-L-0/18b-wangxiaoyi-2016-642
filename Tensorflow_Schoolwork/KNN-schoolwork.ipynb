{
 "cells": [
  {
   "cell_type": "code",
   "execution_count": 1,
   "metadata": {},
   "outputs": [
    {
     "name": "stderr",
     "output_type": "stream",
     "text": [
      "D:\\Anaconda\\lib\\site-packages\\h5py\\__init__.py:36: FutureWarning: Conversion of the second argument of issubdtype from `float` to `np.floating` is deprecated. In future, it will be treated as `np.float64 == np.dtype(float).type`.\n",
      "  from ._conv import register_converters as _register_converters\n"
     ]
    },
    {
     "name": "stdout",
     "output_type": "stream",
     "text": [
      "Test 0 Predict_result: 0 True_class: 0\n",
      "Test 1 Predict_result: 1 True_class: 1\n",
      "Test 2 Predict_result: 1 True_class: 1\n",
      "Test 3 Predict_result: 0 True_class: 0\n",
      "Test 4 Predict_result: 2 True_class: 2\n",
      "Test 5 Predict_result: 1 True_class: 1\n",
      "Test 6 Predict_result: 2 True_class: 2\n",
      "Test 7 Predict_result: 0 True_class: 0\n",
      "Test 8 Predict_result: 0 True_class: 0\n",
      "Test 9 Predict_result: 2 True_class: 2\n",
      "Test 10 Predict_result: 1 True_class: 1\n",
      "Test 11 Predict_result: 0 True_class: 0\n",
      "Test 12 Predict_result: 2 True_class: 2\n",
      "Test 13 Predict_result: 1 True_class: 1\n",
      "Test 14 Predict_result: 1 True_class: 1\n",
      "Test 15 Predict_result: 0 True_class: 0\n",
      "Test 16 Predict_result: 1 True_class: 1\n",
      "Test 17 Predict_result: 1 True_class: 1\n",
      "Test 18 Predict_result: 0 True_class: 0\n",
      "Test 19 Predict_result: 0 True_class: 0\n",
      "Test 20 Predict_result: 1 True_class: 1\n",
      "Test 21 Predict_result: 1 True_class: 1\n",
      "Test 22 Predict_result: 1 True_class: 1\n",
      "Test 23 Predict_result: 0 True_class: 0\n",
      "Test 24 Predict_result: 2 True_class: 2\n",
      "Test 25 Predict_result: 1 True_class: 1\n",
      "Test 26 Predict_result: 0 True_class: 0\n",
      "Test 27 Predict_result: 0 True_class: 0\n",
      "Test 28 Predict_result: 1 True_class: 1\n",
      "Test 29 Predict_result: 2 True_class: 2\n",
      "finsh\n",
      "accuracy: 1.0\n"
     ]
    }
   ],
   "source": [
    "import tensorflow as tf\n",
    "import numpy as np\n",
    "import matplotlib.pyplot as plt\n",
    "from collections import Counter\n",
    "from sklearn.datasets import load_iris\n",
    "from sklearn.model_selection import train_test_split\n",
    "iris = load_iris()\n",
    "data = iris.data\n",
    "target = iris.target\n",
    "featrue_names = iris.feature_names\n",
    "#按照8：2的比例划分训练集和验证集\n",
    "X_train,X_test,Y_train,Y_test=train_test_split(iris.data,iris.target,test_size=0.2,random_state=1)\n",
    "n=len(X_test)\n",
    "#利用tf.placeholder函数定义形式参数，定义过程\n",
    "#Xtr为训练集，Xte为测试集\n",
    "Xtr=tf.placeholder(tf.float32,[None,4])\n",
    "Xte=tf.placeholder(tf.float32,[4])\n",
    "#计算L1距离\n",
    "distance=tf.sqrt(tf.reduce_sum(tf.abs(tf.add(Xtr, tf.negative(Xte))), 1))\n",
    "\n",
    "\n",
    "#初始化变量\n",
    "init= tf.global_variables_initializer()\n",
    "#设定初始k值为1\n",
    "k=1\n",
    "\n",
    "#创建会话，运行图\n",
    "with tf.Session() as sess:\n",
    "    sess.run(init)\n",
    "    #预测结果集\n",
    "    pred_list=[]\n",
    "    acc=0\n",
    "    accuracy=0\n",
    "    for i in range(n):\n",
    "        #计算 当前样本 与 训练集 的距离\n",
    "        near_dis=sess.run(distance,feed_dict={Xtr:X_train,Xte:X_test[i]})\n",
    "        #排序后，按距离远近取前k个值\n",
    "        knn=np.argsort(near_dis)[:k]\n",
    "        #分三类别计数器，取数量最多的类别为样本类别\n",
    "        label=[0,0,0]\n",
    "        #根据k近邻内的样本标签对测试样本进行分类\n",
    "        for j in knn:\n",
    "            if(Y_train[j]==0):\n",
    "                label[0]+=1\n",
    "            elif(Y_train[j]==1):\n",
    "                label[1]+=1\n",
    "            else:\n",
    "                label[2]+=1\n",
    "        #取最大值\n",
    "        final_label=np.argmax(label)    \n",
    "        pred_list.append(final_label)\n",
    "        #便于观察，建立样本预测标签和实际标签的输出tips\n",
    "        print('Test', i ,'Predict_result:',final_label,'True_class:',Y_test[i])\n",
    "        if final_label==Y_test[i]:\n",
    "            acc+=1\n",
    "            accuracy=acc/n\n",
    "    print('finsh')\n",
    "    print('accuracy:',accuracy)"
   ]
  }
 ],
 "metadata": {
  "kernelspec": {
   "display_name": "Python 3",
   "language": "python",
   "name": "python3"
  },
  "language_info": {
   "codemirror_mode": {
    "name": "ipython",
    "version": 3
   },
   "file_extension": ".py",
   "mimetype": "text/x-python",
   "name": "python",
   "nbconvert_exporter": "python",
   "pygments_lexer": "ipython3",
   "version": "3.6.5"
  }
 },
 "nbformat": 4,
 "nbformat_minor": 2
}
